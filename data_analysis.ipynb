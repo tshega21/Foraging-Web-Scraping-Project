{
 "cells": [
  {
   "cell_type": "markdown",
   "id": "22a15673-f842-4446-ba0b-cd5dea5d595c",
   "metadata": {},
   "source": [
    "# Data Analysis"
   ]
  },
  {
   "cell_type": "code",
   "execution_count": 1,
   "id": "c457952c-36b3-4955-9d0a-44391dd37675",
   "metadata": {},
   "outputs": [
    {
     "name": "stdout",
     "output_type": "stream",
     "text": [
      "(779, 6)\n",
      "(348, 2)\n",
      "348\n",
      "Connection string: sqlite:///./foraging.db\n"
     ]
    },
    {
     "data": {
      "text/plain": [
       "'\\nthe data acquisition notebook closes the connection to sqlite \\nso opening it in this notebook is the first step\\n\\n'"
      ]
     },
     "execution_count": 1,
     "metadata": {},
     "output_type": "execute_result"
    }
   ],
   "source": [
    "import pandas as pd\n",
    "import os\n",
    "import os.path\n",
    "import json\n",
    "import sqlalchemy as sa\n",
    "\n",
    "import matplotlib.pyplot as plt\n",
    "\n",
    "%run data_acquisition.ipynb\n",
    "\n",
    "\"\"\"\n",
    "the data acquisition notebook closes the connection to sqlite \n",
    "so opening it in this notebook is the first step\n",
    "\n",
    "\"\"\""
   ]
  },
  {
   "cell_type": "code",
   "execution_count": 2,
   "id": "6c132923-c9ae-49b2-9d67-a9303a86bb8f",
   "metadata": {},
   "outputs": [
    {
     "name": "stdout",
     "output_type": "stream",
     "text": [
      "Connection string: sqlite:///./foraging.db\n"
     ]
    }
   ],
   "source": [
    "\"\"\"\n",
    "OPEN CONNECTION\n",
    "\"\"\"\n",
    "\n",
    "cstring = buildConnectionString(source = \"sqlite_foraging\")\n",
    "print(\"Connection string:\", cstring)\n",
    "\n",
    "\n",
    "engine = sa.create_engine(cstring)\n",
    "connection = engine.connect()"
   ]
  },
  {
   "cell_type": "markdown",
   "id": "3d4654e2-66a5-42ef-a65a-e190a59f5ddd",
   "metadata": {},
   "source": [
    "Q1: This query selects observations grouped by genus/species of plants, therefore finding the number of times each plant has been observed\n",
    "\n",
    "This give a rough estimate of which plants are more commonly found or which plants more people seem to identify or are curious about"
   ]
  },
  {
   "cell_type": "code",
   "execution_count": 3,
   "id": "d7793799-0731-43b2-adaa-82eecbdf0040",
   "metadata": {},
   "outputs": [
    {
     "data": {
      "text/html": [
       "<div>\n",
       "<style scoped>\n",
       "    .dataframe tbody tr th:only-of-type {\n",
       "        vertical-align: middle;\n",
       "    }\n",
       "\n",
       "    .dataframe tbody tr th {\n",
       "        vertical-align: top;\n",
       "    }\n",
       "\n",
       "    .dataframe thead th {\n",
       "        text-align: right;\n",
       "    }\n",
       "</style>\n",
       "<table border=\"1\" class=\"dataframe\">\n",
       "  <thead>\n",
       "    <tr style=\"text-align: right;\">\n",
       "      <th></th>\n",
       "      <th>genus</th>\n",
       "      <th>species</th>\n",
       "      <th>comname</th>\n",
       "      <th>observationcount</th>\n",
       "    </tr>\n",
       "  </thead>\n",
       "  <tbody>\n",
       "    <tr>\n",
       "      <th>0</th>\n",
       "      <td>Flammulina</td>\n",
       "      <td>velutipes</td>\n",
       "      <td>Velvet Foot</td>\n",
       "      <td>5</td>\n",
       "    </tr>\n",
       "    <tr>\n",
       "      <th>1</th>\n",
       "      <td>Symplocarpus</td>\n",
       "      <td>foetidus</td>\n",
       "      <td>Eastern Skunk Cabbage</td>\n",
       "      <td>5</td>\n",
       "    </tr>\n",
       "    <tr>\n",
       "      <th>2</th>\n",
       "      <td>Ficaria</td>\n",
       "      <td>verna</td>\n",
       "      <td>Lesser Celandine</td>\n",
       "      <td>4</td>\n",
       "    </tr>\n",
       "    <tr>\n",
       "      <th>3</th>\n",
       "      <td>Carex</td>\n",
       "      <td>None</td>\n",
       "      <td>True Sedges</td>\n",
       "      <td>3</td>\n",
       "    </tr>\n",
       "    <tr>\n",
       "      <th>4</th>\n",
       "      <td>Galerina</td>\n",
       "      <td>marginata</td>\n",
       "      <td>Funeral Bell</td>\n",
       "      <td>3</td>\n",
       "    </tr>\n",
       "  </tbody>\n",
       "</table>\n",
       "</div>"
      ],
      "text/plain": [
       "          genus    species                comname  observationcount\n",
       "0    Flammulina  velutipes            Velvet Foot                 5\n",
       "1  Symplocarpus   foetidus  Eastern Skunk Cabbage                 5\n",
       "2       Ficaria      verna       Lesser Celandine                 4\n",
       "3         Carex       None            True Sedges                 3\n",
       "4      Galerina  marginata           Funeral Bell                 3"
      ]
     },
     "execution_count": 3,
     "metadata": {},
     "output_type": "execute_result"
    }
   ],
   "source": [
    "query1 = \"\"\"\n",
    "SELECT  genname as genus, species, comname, COUNT(ROWID) as observationcount\n",
    "FROM observations\n",
    "WHERE genname != 'None'\n",
    "GROUP BY genus, species\n",
    "ORDER BY observationcount DESC\n",
    "\"\"\"\n",
    "\n",
    "\n",
    "result1 = pd.read_sql_query(query1, connection)\n",
    "\n",
    "result1.head(5)\n"
   ]
  },
  {
   "cell_type": "markdown",
   "id": "82e4f84e-1899-4b8e-a1eb-337e32c8f656",
   "metadata": {},
   "source": [
    "This query finds the species that are able to be used as tea and were observed in the Granville area"
   ]
  },
  {
   "cell_type": "code",
   "execution_count": 4,
   "id": "a37c4728-e7e3-4f17-bb51-c59754332f1f",
   "metadata": {},
   "outputs": [
    {
     "data": {
      "text/html": [
       "<div>\n",
       "<style scoped>\n",
       "    .dataframe tbody tr th:only-of-type {\n",
       "        vertical-align: middle;\n",
       "    }\n",
       "\n",
       "    .dataframe tbody tr th {\n",
       "        vertical-align: top;\n",
       "    }\n",
       "\n",
       "    .dataframe thead th {\n",
       "        text-align: right;\n",
       "    }\n",
       "</style>\n",
       "<table border=\"1\" class=\"dataframe\">\n",
       "  <thead>\n",
       "    <tr style=\"text-align: right;\">\n",
       "      <th></th>\n",
       "      <th>tea</th>\n",
       "      <th>genname</th>\n",
       "      <th>species</th>\n",
       "      <th>comname</th>\n",
       "      <th>edibility</th>\n",
       "      <th>medicinal</th>\n",
       "      <th>observationcount</th>\n",
       "    </tr>\n",
       "  </thead>\n",
       "  <tbody>\n",
       "    <tr>\n",
       "      <th>0</th>\n",
       "      <td>True</td>\n",
       "      <td>Glechoma</td>\n",
       "      <td>hederacea</td>\n",
       "      <td>Ground-Ivy</td>\n",
       "      <td>2</td>\n",
       "      <td>3</td>\n",
       "      <td>2</td>\n",
       "    </tr>\n",
       "    <tr>\n",
       "      <th>1</th>\n",
       "      <td>True</td>\n",
       "      <td>Mitchella</td>\n",
       "      <td>repens</td>\n",
       "      <td>Partridgeberry</td>\n",
       "      <td>3</td>\n",
       "      <td>3</td>\n",
       "      <td>2</td>\n",
       "    </tr>\n",
       "    <tr>\n",
       "      <th>2</th>\n",
       "      <td>True</td>\n",
       "      <td>Chimaphila</td>\n",
       "      <td>maculata</td>\n",
       "      <td>Striped Wintergreen</td>\n",
       "      <td>1</td>\n",
       "      <td>3</td>\n",
       "      <td>1</td>\n",
       "    </tr>\n",
       "    <tr>\n",
       "      <th>3</th>\n",
       "      <td>True</td>\n",
       "      <td>Galium</td>\n",
       "      <td>aparine</td>\n",
       "      <td>Catchweed Bedstraw</td>\n",
       "      <td>2</td>\n",
       "      <td>3</td>\n",
       "      <td>1</td>\n",
       "    </tr>\n",
       "    <tr>\n",
       "      <th>4</th>\n",
       "      <td>True</td>\n",
       "      <td>Ilex</td>\n",
       "      <td>opaca</td>\n",
       "      <td>American Holly</td>\n",
       "      <td>2</td>\n",
       "      <td>2</td>\n",
       "      <td>1</td>\n",
       "    </tr>\n",
       "    <tr>\n",
       "      <th>5</th>\n",
       "      <td>True</td>\n",
       "      <td>Sambucus</td>\n",
       "      <td>canadensis</td>\n",
       "      <td>American Black Elderberry</td>\n",
       "      <td>4</td>\n",
       "      <td>3</td>\n",
       "      <td>1</td>\n",
       "    </tr>\n",
       "  </tbody>\n",
       "</table>\n",
       "</div>"
      ],
      "text/plain": [
       "    tea     genname     species                    comname  edibility  \\\n",
       "0  True    Glechoma   hederacea                 Ground-Ivy          2   \n",
       "1  True   Mitchella      repens             Partridgeberry          3   \n",
       "2  True  Chimaphila    maculata        Striped Wintergreen          1   \n",
       "3  True      Galium     aparine         Catchweed Bedstraw          2   \n",
       "4  True        Ilex       opaca             American Holly          2   \n",
       "5  True    Sambucus  canadensis  American Black Elderberry          4   \n",
       "\n",
       "   medicinal  observationcount  \n",
       "0          3                 2  \n",
       "1          3                 2  \n",
       "2          3                 1  \n",
       "3          3                 1  \n",
       "4          2                 1  \n",
       "5          3                 1  "
      ]
     },
     "execution_count": 4,
     "metadata": {},
     "output_type": "execute_result"
    }
   ],
   "source": [
    "query2 = \"\"\"\n",
    "\n",
    "SELECT p.tea, o.genname, o.species, o.comname, p.edibility, p.medicinal,\n",
    "COUNT(o.ROWID) AS observationcount\n",
    "\n",
    "FROM plants as p RIGHT JOIN observations as o\n",
    "    ON o.genname = p.genname AND\n",
    "     o.species = p.species\n",
    " \n",
    "WHERE o.genname != 'None' AND p.tea = 'True'\n",
    "GROUP BY o.genname, o.species\n",
    "ORDER BY observationcount DESC\n",
    "\"\"\"\n",
    "\n",
    "result2 = pd.read_sql_query(query2, connection)\n",
    "\n",
    "result2.head(6)\n"
   ]
  },
  {
   "cell_type": "markdown",
   "id": "14369017-3ea3-45c6-aaba-4c12278f36d2",
   "metadata": {},
   "source": [
    "This query counts the number of species within each genus that can be used as tea"
   ]
  },
  {
   "cell_type": "code",
   "execution_count": 5,
   "id": "203b020d-3271-4bc4-87a3-363406beb296",
   "metadata": {},
   "outputs": [
    {
     "data": {
      "text/plain": [
       "<function matplotlib.pyplot.show(close=None, block=None)>"
      ]
     },
     "execution_count": 5,
     "metadata": {},
     "output_type": "execute_result"
    },
    {
     "data": {
      "image/png": "[encoded data removed]",
      "text/plain": [
       "<Figure size 640x480 with 1 Axes>"
      ]
     },
     "metadata": {},
     "output_type": "display_data"
    }
   ],
   "source": [
    "query3 = \"\"\"\n",
    "SELECT  p.genname as genus, g.gencomname as commonname, COUNT(tea) as teacount, \n",
    "ROUND(AVG(p.edibility),2) as edibility, ROUND(AVG(p.medicinal),2) as medicinal\n",
    "FROM plants as p INNER JOIN genus as g\n",
    "    ON p.genname = g.genname\n",
    "WHERE tea = 'True'\n",
    "GROUP BY genus\n",
    "ORDER BY medicinal DESC\n",
    "\"\"\"\n",
    "\n",
    "result3 = pd.read_sql_query(query3, connection)\n",
    "\n",
    "result3.plot()\n",
    "plt.show"
   ]
  },
  {
   "cell_type": "markdown",
   "id": "17adce29-174d-496c-907a-192a974fd1e0",
   "metadata": {},
   "source": [
    "Dataframes was used to process data by allowing me to create complex views of data without having to write them as a table  or created a subquery inorder to be referenced. Initially, I really wanted to do everything in SQL as the syntax and thought process behind the queries made much more sense to me. However, the flexibility with dataframes is really useful albeit tricky to navigate all the funtionality."
   ]
  },
  {
   "cell_type": "code",
   "execution_count": 6,
   "id": "a3fa5449-1685-4968-880e-6d79e697ce25",
   "metadata": {},
   "outputs": [
    {
     "data": {
      "text/html": [
       "<div>\n",
       "<style scoped>\n",
       "    .dataframe tbody tr th:only-of-type {\n",
       "        vertical-align: middle;\n",
       "    }\n",
       "\n",
       "    .dataframe tbody tr th {\n",
       "        vertical-align: top;\n",
       "    }\n",
       "\n",
       "    .dataframe thead th {\n",
       "        text-align: right;\n",
       "    }\n",
       "</style>\n",
       "<table border=\"1\" class=\"dataframe\">\n",
       "  <thead>\n",
       "    <tr style=\"text-align: right;\">\n",
       "      <th></th>\n",
       "      <th>genus</th>\n",
       "      <th>commonname</th>\n",
       "      <th>teacount</th>\n",
       "      <th>edibility</th>\n",
       "      <th>medicinal</th>\n",
       "    </tr>\n",
       "  </thead>\n",
       "  <tbody>\n",
       "    <tr>\n",
       "      <th>231</th>\n",
       "      <td>Viola</td>\n",
       "      <td>Violets</td>\n",
       "      <td>36</td>\n",
       "      <td>2.56</td>\n",
       "      <td>0.69</td>\n",
       "    </tr>\n",
       "    <tr>\n",
       "      <th>98</th>\n",
       "      <td>Mentha</td>\n",
       "      <td>Horsemint</td>\n",
       "      <td>19</td>\n",
       "      <td>2.89</td>\n",
       "      <td>2.47</td>\n",
       "    </tr>\n",
       "    <tr>\n",
       "      <th>232</th>\n",
       "      <td>Picea</td>\n",
       "      <td>Spruce</td>\n",
       "      <td>16</td>\n",
       "      <td>2.00</td>\n",
       "      <td>0.69</td>\n",
       "    </tr>\n",
       "    <tr>\n",
       "      <th>229</th>\n",
       "      <td>Taraxacum</td>\n",
       "      <td>Dandelion</td>\n",
       "      <td>16</td>\n",
       "      <td>1.31</td>\n",
       "      <td>0.75</td>\n",
       "    </tr>\n",
       "    <tr>\n",
       "      <th>187</th>\n",
       "      <td>Rubus</td>\n",
       "      <td>Blackberry</td>\n",
       "      <td>15</td>\n",
       "      <td>3.47</td>\n",
       "      <td>1.33</td>\n",
       "    </tr>\n",
       "    <tr>\n",
       "      <th>169</th>\n",
       "      <td>Prunus</td>\n",
       "      <td>Blackthorn</td>\n",
       "      <td>15</td>\n",
       "      <td>3.20</td>\n",
       "      <td>1.73</td>\n",
       "    </tr>\n",
       "    <tr>\n",
       "      <th>170</th>\n",
       "      <td>Tilia</td>\n",
       "      <td>Basswood</td>\n",
       "      <td>13</td>\n",
       "      <td>3.46</td>\n",
       "      <td>1.69</td>\n",
       "    </tr>\n",
       "    <tr>\n",
       "      <th>192</th>\n",
       "      <td>Vaccinium</td>\n",
       "      <td>Bilberry</td>\n",
       "      <td>13</td>\n",
       "      <td>3.15</td>\n",
       "      <td>1.08</td>\n",
       "    </tr>\n",
       "    <tr>\n",
       "      <th>168</th>\n",
       "      <td>Rosa</td>\n",
       "      <td>Rose</td>\n",
       "      <td>12</td>\n",
       "      <td>2.58</td>\n",
       "      <td>1.83</td>\n",
       "    </tr>\n",
       "    <tr>\n",
       "      <th>175</th>\n",
       "      <td>Salvia</td>\n",
       "      <td>Clary</td>\n",
       "      <td>12</td>\n",
       "      <td>1.83</td>\n",
       "      <td>1.58</td>\n",
       "    </tr>\n",
       "  </tbody>\n",
       "</table>\n",
       "</div>"
      ],
      "text/plain": [
       "         genus  commonname  teacount  edibility  medicinal\n",
       "231      Viola     Violets        36       2.56       0.69\n",
       "98      Mentha   Horsemint        19       2.89       2.47\n",
       "232      Picea      Spruce        16       2.00       0.69\n",
       "229  Taraxacum   Dandelion        16       1.31       0.75\n",
       "187      Rubus  Blackberry        15       3.47       1.33\n",
       "169     Prunus  Blackthorn        15       3.20       1.73\n",
       "170      Tilia    Basswood        13       3.46       1.69\n",
       "192  Vaccinium    Bilberry        13       3.15       1.08\n",
       "168       Rosa        Rose        12       2.58       1.83\n",
       "175     Salvia       Clary        12       1.83       1.58"
      ]
     },
     "execution_count": 6,
     "metadata": {},
     "output_type": "execute_result"
    }
   ],
   "source": [
    "result3.sort_values(by = 'teacount', ascending = False).head(10)"
   ]
  },
  {
   "cell_type": "markdown",
   "id": "fa92cc86-fff3-45f0-a2b1-28027a5cffe4",
   "metadata": {},
   "source": [
    "# Central Question Answer\n",
    "\n",
    "1) The data collected from inaturalist surrounding Granville is very limited and can not really even give an idea of abundance or biodiversity of the area. Especially as I only scraped from the first two pages that included other types of flora and fauna. I was suprised to see that the most the same plant was only observed 5 times. However, I think that I need to add a little more logic behind the matches of genus and species to ensure specificity but also not exclude any matches of only genus.\n",
    "\n",
    "2) I was happy to find that 5 out of the 154 observations were found on the tea database. This means nearly guaranteed tea in my mind\n",
    "\n",
    "3) It was also really cool to plot the number of species found within each genus against the average edibility and medicinal properties of a plant. I had hypothesized that maybe scientists are more likely to study and find more plants within the same genus if their edibility or medical properties are significant. Especially with medicinal qualities, it kind of looks like the oppositve of my prediction even though the graph really doesn't seem to have much of a trend. \n",
    "\n",
    "4) Lastly, I will be trying to find violets, spruce, and dandelions to make tea out of this summer. I feel like my odds are a bit higher of not food poisoning myself if there is a greater likelihood that more things in its genus are able to made into tea. The last dataset shows genuses sorted by the number of species they contain that can be used as tea according to the pfaf website.\n"
   ]
  },
  {
   "cell_type": "code",
   "execution_count": null,
   "id": "c47d198c-f49f-4aa2-89db-3ad051692250",
   "metadata": {},
   "outputs": [],
   "source": []
  }
 ],
 "metadata": {
  "kernelspec": {
   "display_name": "Python 3 (ipykernel)",
   "language": "python",
   "name": "python3"
  },
  "language_info": {
   "codemirror_mode": {
    "name": "ipython",
    "version": 3
   },
   "file_extension": ".py",
   "mimetype": "text/x-python",
   "name": "python",
   "nbconvert_exporter": "python",
   "pygments_lexer": "ipython3",
   "version": "3.9.17"
  }
 },
 "nbformat": 4,
 "nbformat_minor": 5
}
